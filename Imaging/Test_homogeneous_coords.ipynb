{
 "cells": [
  {
   "cell_type": "markdown",
   "metadata": {},
   "source": []
  },
  {
   "cell_type": "code",
   "execution_count": 1,
   "metadata": {},
   "outputs": [
    {
     "name": "stdout",
     "output_type": "stream",
     "text": [
      "The autoreload extension is already loaded. To reload it, use:\n",
      "  %reload_ext autoreload\n",
      "/Users/briangaudet/Study/Subjects/MachineLearning/Projects/PCM/PCM_v4/Imaging\n"
     ]
    }
   ],
   "source": [
    "import numpy as np\n",
    "import os,sys\n",
    "\n",
    "sys.path.append('.')\n",
    "sys.path.append('../RL_lib/Utils')\n",
    "%load_ext autoreload\n",
    "%load_ext autoreload\n",
    "%autoreload 2\n",
    "%matplotlib nbagg\n",
    "import os\n",
    "print(os.getcwd())"
   ]
  },
  {
   "cell_type": "code",
   "execution_count": 2,
   "metadata": {},
   "outputs": [
    {
     "data": {
      "text/html": [
       "<style>\n",
       ".output_wrapper, .output {\n",
       "    height:auto !important;\n",
       "    max-height:1000px;  /* your desired max-height here */\n",
       "}\n",
       ".output_scroll {\n",
       "    box-shadow:none !important;\n",
       "    webkit-box-shadow:none !important;\n",
       "}\n",
       "</style>"
      ],
      "text/plain": [
       "<IPython.core.display.HTML object>"
      ]
     },
     "metadata": {},
     "output_type": "display_data"
    }
   ],
   "source": [
    "%%html\n",
    "<style>\n",
    ".output_wrapper, .output {\n",
    "    height:auto !important;\n",
    "    max-height:1000px;  /* your desired max-height here */\n",
    "}\n",
    ".output_scroll {\n",
    "    box-shadow:none !important;\n",
    "    webkit-box-shadow:none !important;\n",
    "}\n",
    "</style>"
   ]
  },
  {
   "cell_type": "markdown",
   "metadata": {},
   "source": [
    "### For homogonous coords, the rotation matrix will act on the translation in the previous rotation matrix"
   ]
  },
  {
   "cell_type": "code",
   "execution_count": 7,
   "metadata": {},
   "outputs": [
    {
     "name": "stdout",
     "output_type": "stream",
     "text": [
      "Euler321 Attitude\n",
      "[[ 1.0000000e+00  0.0000000e+00 -0.0000000e+00 -2.0000000e+00]\n",
      " [ 0.0000000e+00 -1.0000000e+00  1.2246468e-16  3.0000000e+00]\n",
      " [ 0.0000000e+00 -1.2246468e-16 -1.0000000e+00 -1.0000000e+00]\n",
      " [ 0.0000000e+00  0.0000000e+00  0.0000000e+00  1.0000000e+00]]\n",
      "[-302.  -33.   26.]\n",
      "[[-302.  -27.   24.]]\n",
      "[[-302.  -33.   26.]]\n"
     ]
    }
   ],
   "source": [
    "import attitude_utils as attu\n",
    "import optics_utils as optu\n",
    "ap = attu.Euler_attitude()\n",
    "def transform1(object_locations, agent_location, agent_q, C_cb, r_cb, ap):\n",
    "    object_locations = object_locations - agent_location\n",
    "\n",
    "    C_bn = ap.q2dcm(agent_q)\n",
    "\n",
    "    # rotate to body-centered body frame then translate to camera centered\n",
    "    bf_coords = object_locations.dot(C_bn.T) - r_cb\n",
    "\n",
    "    # rotate to camera-centered camera frame\n",
    "    cf_coords = bf_coords.dot(C_cb.T)\n",
    "    return cf_coords\n",
    "\n",
    "def transform2(object_locations, agent_location, agent_q, M_cb, r_cb, ap):\n",
    "    #print(object_locations.shape)\n",
    "    C_bn = ap.q2dcm(agent_q)\n",
    "    M_bn = optu.ct2m(C_bn, agent_location)\n",
    "    M = M_cb.dot(M_bn)\n",
    "    object_locations = np.hstack((object_locations,np.ones((object_locations.shape[0],1))))\n",
    "    cf_coords = object_locations.dot(M.T)\n",
    "    cf_coords = cf_coords[:,0:3]\n",
    "    return cf_coords\n",
    "\n",
    "def transform3(object_locations, agent_location, agent_q, M_cb, r_cb, ap):\n",
    "    #print(object_locations.shape)\n",
    "    object_locations = object_locations - agent_location\n",
    "    C_bn = ap.q2dcm(agent_q)\n",
    "    M_bn = optu.ct2m(C_bn, r_cb)\n",
    "    M = M_cb.dot(M_bn)\n",
    "    object_locations = np.hstack((object_locations,np.ones((object_locations.shape[0],1))))\n",
    "    cf_coords = object_locations.dot(M.T)\n",
    "    cf_coords = cf_coords[:,0:3]\n",
    "    return cf_coords\n",
    "\n",
    "object_locations = np.asarray([200,10,-10])\n",
    "agent_location= np.asarray([500,-20,15,])\n",
    "yaw = 0.0 #+np.pi/16\n",
    "pitch = 0.0\n",
    "roll = 0.0\n",
    "agent_q = np.asarray([yaw,pitch,roll])\n",
    "\n",
    "yaw = 0.0 #+np.pi/16\n",
    "pitch = 0.0\n",
    "roll = np.pi\n",
    "q = np.asarray([yaw,pitch,roll])\n",
    "C_cb = ap.q2dcm(q)\n",
    "r_cb = np.asarray([2,-3,1])\n",
    "M_cb = optu.ct2m(C_cb,r_cb)\n",
    "M_cb2 = optu.ct2m(C_cb,np.zeros(3))\n",
    "print(M_cb)\n",
    "c1 = transform1(object_locations, agent_location, agent_q, C_cb, r_cb, ap)\n",
    "c2 = transform2(np.expand_dims(object_locations,axis=0), agent_location, agent_q, M_cb, r_cb, ap)\n",
    "c3 = transform3(np.expand_dims(object_locations,axis=0), agent_location, agent_q, M_cb2, r_cb, ap)\n",
    "print(c1)\n",
    "print(c2)\n",
    "print(c3)"
   ]
  },
  {
   "cell_type": "code",
   "execution_count": null,
   "metadata": {},
   "outputs": [],
   "source": []
  }
 ],
 "metadata": {
  "kernelspec": {
   "display_name": "Python 3",
   "language": "python",
   "name": "python3"
  },
  "language_info": {
   "codemirror_mode": {
    "name": "ipython",
    "version": 3
   },
   "file_extension": ".py",
   "mimetype": "text/x-python",
   "name": "python",
   "nbconvert_exporter": "python",
   "pygments_lexer": "ipython3",
   "version": "3.5.0"
  }
 },
 "nbformat": 4,
 "nbformat_minor": 2
}
